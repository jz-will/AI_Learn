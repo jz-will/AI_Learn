{
 "cells": [
  {
   "cell_type": "code",
   "execution_count": 1,
   "metadata": {
    "collapsed": true,
    "pycharm": {
     "is_executing": false
    }
   },
   "outputs": [
    {
     "name": "stdout",
     "text": [
      "False\n0.0 0 0\nend!\n"
     ],
     "output_type": "stream"
    }
   ],
   "source": [
    "# 视频分解图片\n",
    "import cv2\n",
    "cap = cv2.VideoCapture()\n",
    "isopened  = cap.isOpened() # 判断是否打开\n",
    "print(isopened)\n",
    "# 获取帧率\n",
    "fps = cap.get(cv2.CAP_PROP_FPS)\n",
    "width=int(cap.get(cv2.CAP_PROP_FRAME_WIDTH))\n",
    "height = int(cap.get(cv2.CAP_PROP_FRAME_HEIGHT))\n",
    "print(fps, width, height)\n",
    "i=0\n",
    "while(isopened):\n",
    "    if i==10:\n",
    "        break\n",
    "    else:\n",
    "        i = i+1\n",
    "    (flag, frame) = cap.read() # 读取每一张flag frame\n",
    "    fileName = 'image'+str(i)+'.jpg'\n",
    "    if flag == True:\n",
    "        cv2.imwrite(fileName, frame, [cv2.IMWRITE_JPEG_QUALITY,100])\n",
    "print('end!')"
   ]
  },
  {
   "cell_type": "code",
   "execution_count": 5,
   "outputs": [
    {
     "traceback": [
      "\u001b[1;31m---------------------------------------------------------------------------\u001b[0m",
      "\u001b[1;31mAttributeError\u001b[0m                            Traceback (most recent call last)",
      "\u001b[1;32m<ipython-input-5-84b075684b6e>\u001b[0m in \u001b[0;36m<module>\u001b[1;34m\u001b[0m\n\u001b[0;32m      2\u001b[0m \u001b[1;32mimport\u001b[0m \u001b[0mcv2\u001b[0m\u001b[1;33m\u001b[0m\u001b[0m\n\u001b[0;32m      3\u001b[0m \u001b[0mimg\u001b[0m \u001b[1;33m=\u001b[0m \u001b[0mcv2\u001b[0m\u001b[1;33m.\u001b[0m\u001b[0mimread\u001b[0m\u001b[1;33m(\u001b[0m\u001b[1;34m'./img/test2.jpg'\u001b[0m\u001b[1;33m,\u001b[0m\u001b[1;36m1\u001b[0m\u001b[1;33m)\u001b[0m\u001b[1;33m\u001b[0m\u001b[0m\n\u001b[1;32m----> 4\u001b[1;33m \u001b[0mheight\u001b[0m\u001b[1;33m,\u001b[0m\u001b[0mwidth\u001b[0m\u001b[1;33m,\u001b[0m\u001b[0mmode\u001b[0m \u001b[1;33m=\u001b[0m \u001b[0mimg\u001b[0m\u001b[1;33m.\u001b[0m\u001b[0mshape\u001b[0m\u001b[1;33m\u001b[0m\u001b[0m\n\u001b[0m\u001b[0;32m      5\u001b[0m \u001b[0mprint\u001b[0m\u001b[1;33m(\u001b[0m\u001b[0mheight\u001b[0m\u001b[1;33m,\u001b[0m\u001b[0mwidth\u001b[0m\u001b[1;33m)\u001b[0m\u001b[1;33m\u001b[0m\u001b[0m\n\u001b[0;32m      6\u001b[0m \u001b[1;31m# 写入对象\u001b[0m\u001b[1;33m\u001b[0m\u001b[1;33m\u001b[0m\u001b[0m\n",
      "\u001b[1;31mAttributeError\u001b[0m: 'NoneType' object has no attribute 'shape'"
     ],
     "ename": "AttributeError",
     "evalue": "'NoneType' object has no attribute 'shape'",
     "output_type": "error"
    }
   ],
   "source": [
    "# 图片合成视频\n",
    "import cv2\n",
    "img = cv2.imread('./img/test2.jpg',1)\n",
    "height,width,mode = img.shape\n",
    "print(height,width)\n",
    "# 写入对象\n",
    "VideoWrite = cv2.VideoWriter('2.mp4',-1.5,(height,width))\n",
    "# 解码器  帧率  size\n",
    "for i in range(1, 11):\n",
    "    fileName = 'image'+str(i)+'.jpg'\n",
    "    img = cv2.imread(fileName)\n",
    "    VideoWrite.write(img)\n",
    "print('end!')"
   ],
   "metadata": {
    "collapsed": false,
    "pycharm": {
     "name": "#%%\n",
     "is_executing": false
    }
   }
  },
  {
   "cell_type": "code",
   "execution_count": null,
   "outputs": [],
   "source": [
    "# Haar特征  特征=像素运算后得到的结果\n",
    "# 利用特征进行分类：机器学习->阈值判决\n",
    "# 模板：BASIC CORE ALL\n",
    "# 公式推导\n",
    "\n",
    "# 遍历时候的步长\n",
    "# 积分图\n",
    "\n",
    "# adaboost分类器\n",
    "# 计算过程：harr>T1 AND Haar>T2 2个强分类器\n",
    "#（特征与阈值比较）\n",
    "# 弱分类器：计算强分类器特征\n",
    "# 终止条件：次数、误差\n",
    "\n",
    "# opencv最多三个Haar特征， XML文件\n",
    "\n",
    "# adaboost分类器怎么训练\n",
    "# 1、初始化数据权值分布\n",
    "# 2、遍历阈值 误差概率P\n",
    "# 3、计算权重\n",
    "# 4、更新权值分布（错误结果会被加强）\n"
   ],
   "metadata": {
    "collapsed": false,
    "pycharm": {
     "name": "#%%\n"
    }
   }
  },
  {
   "cell_type": "code",
   "execution_count": null,
   "outputs": [],
   "source": [
    "# Haar+adaboost\n",
    "# 1、load xml  \n",
    "# 2、load jpg  \n",
    "# 3、haar gray \n",
    "# 4、detect\n",
    "\n",
    "import cv2\n",
    "import numpy as np\n",
    "import matplotlib.pyplot as plt\n",
    "face_xml=cv2.CascadeClassifier('.xml')\n",
    "eye_xml=cv2.CascadeClassifier('.xml')\n",
    "\n",
    "img = cv2.imread(',jpg')\n",
    "cv2.imshow(img)\n",
    "\n",
    "gray = cv2.cvtColor(img, cv2.COLOR_BGR2GRAY)\n",
    "# data, scale(比例缩放), 目标大小\n",
    "faces = face_xml.detectMultiScale(gray, 1.3, 5)\n",
    "print('face=',len(faces))\n",
    "\n",
    "for (x,y,w,h) in faces:\n",
    "    cv2.rectangle(img, (x,y),(x+w,y+h),(255,0,0),2)\n",
    "    roi_face = gray[y:y+h,x:x+w]\n",
    "    roi_color = img[y:y+h,x:x+w]\n",
    "    \n",
    "    eyes = eye_xml.detectMultiScale(roi_face)\n",
    "    print('eye='.len(eyes))\n",
    "    for (e_x,e_y,e_w,e_h) in eyes:\n",
    "        cv2.rectangle(img, (e_x,e_y),(e_x+e_w,e_y+e_h),(255,0,0),2)\n",
    "\n",
    "cv2.imshow('dst',img)\n",
    "cv2.waitKey(0)"
   ],
   "metadata": {
    "collapsed": false,
    "pycharm": {
     "name": "#%%\n"
    }
   }
  },
  {
   "cell_type": "code",
   "execution_count": 3,
   "outputs": [
    {
     "name": "stdout",
     "text": [
      "[[167.  55.]\n [162.  57.]]\n[[0.]\n [1.]]\n"
     ],
     "output_type": "stream"
    }
   ],
   "source": [
    "# SVM支持向量机(分类器) 寻求一个最优的超平面\n",
    "# SVM 核：line\n",
    "\n",
    "#身高体重 训练 预测\n",
    "import cv2\n",
    "import numpy as np\n",
    "import matplotlib.pyplot as plt\n",
    "# 1、准备数据data\n",
    "rand1=np.array([[155,48],[159,50],[164,53],[168,58],[172,60]])\n",
    "rand2=np.array([[152,53],[156,55],[160,56],[172,64],[176,65]])\n",
    "# 2、label\n",
    "label = np.array([[0],[0],[0],[0],[0],[1],[1],[1],[1],[1]])\n",
    "\n",
    "# 3、data\n",
    "data = np.vstack((rand1,rand2))\n",
    "data = np.array(data, dtype='float32')\n",
    "\n",
    "# SVM 数据必须有标签\n",
    "# 监督学习--训练时告知数据的真假\n",
    "\n",
    "# 4、训练\n",
    "svm = cv2.ml.SVM_create()\n",
    "# 属性设置--线性分类器\n",
    "svm.setType(cv2.ml.SVM_C_SVC)\n",
    "svm.setKernel(cv2.ml.SVM_LINEAR)\n",
    "svm.setC(0.01)\n",
    "\n",
    "# 训练\n",
    "result = svm.train(data, cv2.ml.ROW_SAMPLE,label)\n",
    "\n",
    "#预测\n",
    "pt_data = np.vstack([[167,55],[162,57]])\n",
    "pt_data = np.array(pt_data,dtype='float32')\n",
    "print(pt_data)\n",
    "(par1,par2) = svm.predict(pt_data)\n",
    "print(par1, par2)"
   ],
   "metadata": {
    "collapsed": false,
    "pycharm": {
     "name": "#%%\n",
     "is_executing": false
    }
   }
  },
  {
   "cell_type": "code",
   "execution_count": 1,
   "outputs": [],
   "source": [
    "# hog特征\n",
    "# 模块划分-梯度、方向 模板-bin 投影-每个模块hog\n",
    "# 1、image->win->n*block()->cell (size)\n",
    "# 各板块的步长 cell的<-bin\n",
    "# win最顶层单元 -->obj---64*124\n",
    "# block（可滑动）：步长、count=105--16*16\n",
    "# cell（不可滑动）：count = 4  --4*4\n",
    "# bin（不一定连续？对称）：和方向有关 --40 -- 360<-cell  --cell = 9bin\n",
    "# hog特征的维度（block）： haar: 值； hog：向量（维度） \n",
    "# 维度=105block*4cell*9bin = 3780\n",
    "\n",
    "# 梯度：模板   a=(卷积)相邻像素之差；b=上下像素之差\n",
    "# 梯度=根号（a+b）\n",
    "# angle = arctan(a/b)\n",
    "# bin投影以及幅度\n",
    "# hog * SVM = 值\n",
    "\n"
   ],
   "metadata": {
    "collapsed": false,
    "pycharm": {
     "name": "#%%\n",
     "is_executing": false
    }
   }
  }
 ],
 "metadata": {
  "language_info": {
   "codemirror_mode": {
    "name": "ipython",
    "version": 2
   },
   "file_extension": ".py",
   "mimetype": "text/x-python",
   "name": "python",
   "nbconvert_exporter": "python",
   "pygments_lexer": "ipython2",
   "version": "2.7.6"
  },
  "kernelspec": {
   "name": "pycharm-66e9612e",
   "language": "python",
   "display_name": "PyCharm (AI_Learn)"
  },
  "pycharm": {
   "stem_cell": {
    "cell_type": "raw",
    "source": [],
    "metadata": {
     "collapsed": false
    }
   }
  }
 },
 "nbformat": 4,
 "nbformat_minor": 0
}